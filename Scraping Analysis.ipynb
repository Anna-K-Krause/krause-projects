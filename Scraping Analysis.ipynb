{
 "cells": [
  {
   "cell_type": "markdown",
   "metadata": {},
   "source": [
    "# Analysis\n",
    "trying to predict if the text is from a DSS or SI injury using the text inside"
   ]
  },
  {
   "cell_type": "code",
   "execution_count": 1,
   "metadata": {},
   "outputs": [],
   "source": [
    "import nltk\n",
    "import pandas as pd\n",
    "import numpy as np\n",
    "import matplotlib.pyplot as plt\n",
    "import seaborn as sns\n",
    "%matplotlib inline\n",
    "from nltk.tokenize import word_tokenize\n",
    "from sklearn import datasets, linear_model\n",
    "from sklearn.model_selection import train_test_split"
   ]
  },
  {
   "cell_type": "markdown",
   "metadata": {},
   "source": [
    "## EDA"
   ]
  },
  {
   "cell_type": "code",
   "execution_count": 2,
   "metadata": {},
   "outputs": [],
   "source": [
    "df = pd.read_csv(\"injury.csv\") "
   ]
  },
  {
   "cell_type": "code",
   "execution_count": 3,
   "metadata": {},
   "outputs": [
    {
     "data": {
      "text/html": [
       "<div>\n",
       "<style scoped>\n",
       "    .dataframe tbody tr th:only-of-type {\n",
       "        vertical-align: middle;\n",
       "    }\n",
       "\n",
       "    .dataframe tbody tr th {\n",
       "        vertical-align: top;\n",
       "    }\n",
       "\n",
       "    .dataframe thead th {\n",
       "        text-align: right;\n",
       "    }\n",
       "</style>\n",
       "<table border=\"1\" class=\"dataframe\">\n",
       "  <thead>\n",
       "    <tr style=\"text-align: right;\">\n",
       "      <th></th>\n",
       "      <th>Title</th>\n",
       "      <th>Url</th>\n",
       "      <th>Type</th>\n",
       "      <th>Text</th>\n",
       "    </tr>\n",
       "  </thead>\n",
       "  <tbody>\n",
       "    <tr>\n",
       "      <th>0</th>\n",
       "      <td>Achilles tendon rupture</td>\n",
       "      <td>https://en.wikipedia.org//wiki/Achilles_tendon...</td>\n",
       "      <td>DSS</td>\n",
       "      <td>Achilles tendon rupture is when the Achilles ...</td>\n",
       "    </tr>\n",
       "    <tr>\n",
       "      <th>1</th>\n",
       "      <td>ALPSA lesion</td>\n",
       "      <td>https://en.wikipedia.org//wiki/ALPSA_lesion</td>\n",
       "      <td>DSS</td>\n",
       "      <td>An ALPSA (anterior labral periosteal sleeve a...</td>\n",
       "    </tr>\n",
       "    <tr>\n",
       "      <th>2</th>\n",
       "      <td>Anterior cruciate ligament injury</td>\n",
       "      <td>https://en.wikipedia.org//wiki/Anterior_crucia...</td>\n",
       "      <td>DSS</td>\n",
       "      <td>Anterior cruciate ligament injury is when the...</td>\n",
       "    </tr>\n",
       "    <tr>\n",
       "      <th>3</th>\n",
       "      <td>Bankart lesion</td>\n",
       "      <td>https://en.wikipedia.org//wiki/Bankart_lesion</td>\n",
       "      <td>DSS</td>\n",
       "      <td>A Bankart lesion is an injury of the anterior...</td>\n",
       "    </tr>\n",
       "    <tr>\n",
       "      <th>4</th>\n",
       "      <td>Biceps femoris tendon rupture</td>\n",
       "      <td>https://en.wikipedia.org//wiki/Biceps_femoris_...</td>\n",
       "      <td>DSS</td>\n",
       "      <td>Biceps femoris tendon rupture can occur when ...</td>\n",
       "    </tr>\n",
       "  </tbody>\n",
       "</table>\n",
       "</div>"
      ],
      "text/plain": [
       "                               Title  \\\n",
       "0            Achilles tendon rupture   \n",
       "1                       ALPSA lesion   \n",
       "2  Anterior cruciate ligament injury   \n",
       "3                     Bankart lesion   \n",
       "4      Biceps femoris tendon rupture   \n",
       "\n",
       "                                                 Url Type  \\\n",
       "0  https://en.wikipedia.org//wiki/Achilles_tendon...  DSS   \n",
       "1        https://en.wikipedia.org//wiki/ALPSA_lesion  DSS   \n",
       "2  https://en.wikipedia.org//wiki/Anterior_crucia...  DSS   \n",
       "3      https://en.wikipedia.org//wiki/Bankart_lesion  DSS   \n",
       "4  https://en.wikipedia.org//wiki/Biceps_femoris_...  DSS   \n",
       "\n",
       "                                                Text  \n",
       "0   Achilles tendon rupture is when the Achilles ...  \n",
       "1   An ALPSA (anterior labral periosteal sleeve a...  \n",
       "2   Anterior cruciate ligament injury is when the...  \n",
       "3   A Bankart lesion is an injury of the anterior...  \n",
       "4   Biceps femoris tendon rupture can occur when ...  "
      ]
     },
     "execution_count": 3,
     "metadata": {},
     "output_type": "execute_result"
    }
   ],
   "source": [
    "df.head()"
   ]
  },
  {
   "cell_type": "code",
   "execution_count": 4,
   "metadata": {},
   "outputs": [
    {
     "name": "stdout",
     "output_type": "stream",
     "text": [
      "<class 'pandas.core.frame.DataFrame'>\n",
      "RangeIndex: 56 entries, 0 to 55\n",
      "Data columns (total 4 columns):\n",
      "Title    56 non-null object\n",
      "Url      56 non-null object\n",
      "Type     56 non-null object\n",
      "Text     56 non-null object\n",
      "dtypes: object(4)\n",
      "memory usage: 1.8+ KB\n"
     ]
    }
   ],
   "source": [
    "df.info()"
   ]
  },
  {
   "cell_type": "code",
   "execution_count": 5,
   "metadata": {},
   "outputs": [
    {
     "data": {
      "text/plain": [
       "Title    0\n",
       "Url      0\n",
       "Type     0\n",
       "Text     0\n",
       "dtype: int64"
      ]
     },
     "execution_count": 5,
     "metadata": {},
     "output_type": "execute_result"
    }
   ],
   "source": [
    "df.isnull().sum()"
   ]
  },
  {
   "cell_type": "code",
   "execution_count": 6,
   "metadata": {},
   "outputs": [
    {
     "data": {
      "text/plain": [
       "DSS    31\n",
       "SI     25\n",
       "Name: Type, dtype: int64"
      ]
     },
     "execution_count": 6,
     "metadata": {},
     "output_type": "execute_result"
    }
   ],
   "source": [
    "df['Type'].value_counts()"
   ]
  },
  {
   "cell_type": "markdown",
   "metadata": {},
   "source": [
    "## Clean up the text"
   ]
  },
  {
   "cell_type": "code",
   "execution_count": 4,
   "metadata": {},
   "outputs": [],
   "source": [
    "df['cleanText'] = df['Text'].str.lower()"
   ]
  },
  {
   "cell_type": "code",
   "execution_count": 5,
   "metadata": {},
   "outputs": [
    {
     "data": {
      "text/html": [
       "<div>\n",
       "<style scoped>\n",
       "    .dataframe tbody tr th:only-of-type {\n",
       "        vertical-align: middle;\n",
       "    }\n",
       "\n",
       "    .dataframe tbody tr th {\n",
       "        vertical-align: top;\n",
       "    }\n",
       "\n",
       "    .dataframe thead th {\n",
       "        text-align: right;\n",
       "    }\n",
       "</style>\n",
       "<table border=\"1\" class=\"dataframe\">\n",
       "  <thead>\n",
       "    <tr style=\"text-align: right;\">\n",
       "      <th></th>\n",
       "      <th>Title</th>\n",
       "      <th>Url</th>\n",
       "      <th>Type</th>\n",
       "      <th>Text</th>\n",
       "      <th>cleanText</th>\n",
       "    </tr>\n",
       "  </thead>\n",
       "  <tbody>\n",
       "    <tr>\n",
       "      <th>0</th>\n",
       "      <td>Achilles tendon rupture</td>\n",
       "      <td>https://en.wikipedia.org//wiki/Achilles_tendon...</td>\n",
       "      <td>DSS</td>\n",
       "      <td>Achilles tendon rupture is when the Achilles ...</td>\n",
       "      <td>achilles tendon rupture is when the achilles ...</td>\n",
       "    </tr>\n",
       "    <tr>\n",
       "      <th>1</th>\n",
       "      <td>ALPSA lesion</td>\n",
       "      <td>https://en.wikipedia.org//wiki/ALPSA_lesion</td>\n",
       "      <td>DSS</td>\n",
       "      <td>An ALPSA (anterior labral periosteal sleeve a...</td>\n",
       "      <td>an alpsa (anterior labral periosteal sleeve a...</td>\n",
       "    </tr>\n",
       "    <tr>\n",
       "      <th>2</th>\n",
       "      <td>Anterior cruciate ligament injury</td>\n",
       "      <td>https://en.wikipedia.org//wiki/Anterior_crucia...</td>\n",
       "      <td>DSS</td>\n",
       "      <td>Anterior cruciate ligament injury is when the...</td>\n",
       "      <td>anterior cruciate ligament injury is when the...</td>\n",
       "    </tr>\n",
       "  </tbody>\n",
       "</table>\n",
       "</div>"
      ],
      "text/plain": [
       "                               Title  \\\n",
       "0            Achilles tendon rupture   \n",
       "1                       ALPSA lesion   \n",
       "2  Anterior cruciate ligament injury   \n",
       "\n",
       "                                                 Url Type  \\\n",
       "0  https://en.wikipedia.org//wiki/Achilles_tendon...  DSS   \n",
       "1        https://en.wikipedia.org//wiki/ALPSA_lesion  DSS   \n",
       "2  https://en.wikipedia.org//wiki/Anterior_crucia...  DSS   \n",
       "\n",
       "                                                Text  \\\n",
       "0   Achilles tendon rupture is when the Achilles ...   \n",
       "1   An ALPSA (anterior labral periosteal sleeve a...   \n",
       "2   Anterior cruciate ligament injury is when the...   \n",
       "\n",
       "                                           cleanText  \n",
       "0   achilles tendon rupture is when the achilles ...  \n",
       "1   an alpsa (anterior labral periosteal sleeve a...  \n",
       "2   anterior cruciate ligament injury is when the...  "
      ]
     },
     "execution_count": 5,
     "metadata": {},
     "output_type": "execute_result"
    }
   ],
   "source": [
    "df.head(3)"
   ]
  },
  {
   "cell_type": "code",
   "execution_count": 5,
   "metadata": {},
   "outputs": [],
   "source": [
    "#make all strings and makes all characters alphanumeric \n",
    "df['cleanText'] = df['cleanText'].str.replace('[^\\w\\s]','')"
   ]
  },
  {
   "cell_type": "code",
   "execution_count": 6,
   "metadata": {},
   "outputs": [],
   "source": [
    "df = df.replace('\\n','', regex=True) #do this for only cleanText"
   ]
  },
  {
   "cell_type": "code",
   "execution_count": 14,
   "metadata": {},
   "outputs": [
    {
     "data": {
      "text/html": [
       "<div>\n",
       "<style scoped>\n",
       "    .dataframe tbody tr th:only-of-type {\n",
       "        vertical-align: middle;\n",
       "    }\n",
       "\n",
       "    .dataframe tbody tr th {\n",
       "        vertical-align: top;\n",
       "    }\n",
       "\n",
       "    .dataframe thead th {\n",
       "        text-align: right;\n",
       "    }\n",
       "</style>\n",
       "<table border=\"1\" class=\"dataframe\">\n",
       "  <thead>\n",
       "    <tr style=\"text-align: right;\">\n",
       "      <th></th>\n",
       "      <th>Title</th>\n",
       "      <th>Url</th>\n",
       "      <th>Type</th>\n",
       "      <th>Text</th>\n",
       "      <th>cleanText</th>\n",
       "    </tr>\n",
       "  </thead>\n",
       "  <tbody>\n",
       "    <tr>\n",
       "      <th>0</th>\n",
       "      <td>Achilles tendon rupture</td>\n",
       "      <td>https://en.wikipedia.org//wiki/Achilles_tendon...</td>\n",
       "      <td>DSS</td>\n",
       "      <td>Achilles tendon rupture is when the Achilles ...</td>\n",
       "      <td>achilles tendon rupture is when the achilles ...</td>\n",
       "    </tr>\n",
       "    <tr>\n",
       "      <th>1</th>\n",
       "      <td>ALPSA lesion</td>\n",
       "      <td>https://en.wikipedia.org//wiki/ALPSA_lesion</td>\n",
       "      <td>DSS</td>\n",
       "      <td>An ALPSA (anterior labral periosteal sleeve a...</td>\n",
       "      <td>an alpsa anterior labral periosteal sleeve av...</td>\n",
       "    </tr>\n",
       "  </tbody>\n",
       "</table>\n",
       "</div>"
      ],
      "text/plain": [
       "                     Title                                                Url  \\\n",
       "0  Achilles tendon rupture  https://en.wikipedia.org//wiki/Achilles_tendon...   \n",
       "1             ALPSA lesion        https://en.wikipedia.org//wiki/ALPSA_lesion   \n",
       "\n",
       "  Type                                               Text  \\\n",
       "0  DSS   Achilles tendon rupture is when the Achilles ...   \n",
       "1  DSS   An ALPSA (anterior labral periosteal sleeve a...   \n",
       "\n",
       "                                           cleanText  \n",
       "0   achilles tendon rupture is when the achilles ...  \n",
       "1   an alpsa anterior labral periosteal sleeve av...  "
      ]
     },
     "execution_count": 14,
     "metadata": {},
     "output_type": "execute_result"
    }
   ],
   "source": [
    "df.head(2)"
   ]
  },
  {
   "cell_type": "code",
   "execution_count": 7,
   "metadata": {},
   "outputs": [],
   "source": [
    "from nltk.corpus import stopwords\n",
    "stopwords = stopwords.words('english') #change name"
   ]
  },
  {
   "cell_type": "code",
   "execution_count": 16,
   "metadata": {},
   "outputs": [
    {
     "name": "stdout",
     "output_type": "stream",
     "text": [
      "['i', 'me', 'my', 'myself', 'we', 'our', 'ours', 'ourselves', 'you', \"you're\", \"you've\", \"you'll\", \"you'd\", 'your', 'yours', 'yourself', 'yourselves', 'he', 'him', 'his', 'himself', 'she', \"she's\", 'her', 'hers', 'herself', 'it', \"it's\", 'its', 'itself', 'they', 'them', 'their', 'theirs', 'themselves', 'what', 'which', 'who', 'whom', 'this', 'that', \"that'll\", 'these', 'those', 'am', 'is', 'are', 'was', 'were', 'be', 'been', 'being', 'have', 'has', 'had', 'having', 'do', 'does', 'did', 'doing', 'a', 'an', 'the', 'and', 'but', 'if', 'or', 'because', 'as', 'until', 'while', 'of', 'at', 'by', 'for', 'with', 'about', 'against', 'between', 'into', 'through', 'during', 'before', 'after', 'above', 'below', 'to', 'from', 'up', 'down', 'in', 'out', 'on', 'off', 'over', 'under', 'again', 'further', 'then', 'once', 'here', 'there', 'when', 'where', 'why', 'how', 'all', 'any', 'both', 'each', 'few', 'more', 'most', 'other', 'some', 'such', 'no', 'nor', 'not', 'only', 'own', 'same', 'so', 'than', 'too', 'very', 's', 't', 'can', 'will', 'just', 'don', \"don't\", 'should', \"should've\", 'now', 'd', 'll', 'm', 'o', 're', 've', 'y', 'ain', 'aren', \"aren't\", 'couldn', \"couldn't\", 'didn', \"didn't\", 'doesn', \"doesn't\", 'hadn', \"hadn't\", 'hasn', \"hasn't\", 'haven', \"haven't\", 'isn', \"isn't\", 'ma', 'mightn', \"mightn't\", 'mustn', \"mustn't\", 'needn', \"needn't\", 'shan', \"shan't\", 'shouldn', \"shouldn't\", 'wasn', \"wasn't\", 'weren', \"weren't\", 'won', \"won't\", 'wouldn', \"wouldn't\"]\n"
     ]
    }
   ],
   "source": [
    "print(stopwords)\n",
    "#all seemed appropirate to remove"
   ]
  },
  {
   "cell_type": "code",
   "execution_count": 8,
   "metadata": {},
   "outputs": [],
   "source": [
    "df['cleanText'] = df['cleanText'].apply(lambda x: ' '.join([item for item in x.split() if item not in stopwords]))"
   ]
  },
  {
   "cell_type": "markdown",
   "metadata": {},
   "source": [
    "## Train / Test Split"
   ]
  },
  {
   "cell_type": "code",
   "execution_count": 19,
   "metadata": {},
   "outputs": [],
   "source": [
    "y = df.Type\n",
    "x = df.cleanText"
   ]
  },
  {
   "cell_type": "code",
   "execution_count": 20,
   "metadata": {},
   "outputs": [],
   "source": [
    "X_train, X_test, y_train, y_test = train_test_split(x,y, test_size=0.3, random_state = 42)"
   ]
  },
  {
   "cell_type": "markdown",
   "metadata": {},
   "source": [
    "## tfidf"
   ]
  },
  {
   "cell_type": "code",
   "execution_count": 21,
   "metadata": {},
   "outputs": [],
   "source": [
    "from sklearn.feature_extraction.text import TfidfVectorizer"
   ]
  },
  {
   "cell_type": "code",
   "execution_count": 23,
   "metadata": {},
   "outputs": [],
   "source": [
    "tfidf = TfidfVectorizer(ngram_range=(1, 2))\n",
    "tfidf_train = tfidf.fit_transform(X_train)\n",
    "tfidf_test = tfidf.transform(X_test)"
   ]
  },
  {
   "cell_type": "code",
   "execution_count": 24,
   "metadata": {},
   "outputs": [
    {
     "data": {
      "text/plain": [
       "<1x31353 sparse matrix of type '<class 'numpy.float64'>'\n",
       "\twith 175 stored elements in Compressed Sparse Row format>"
      ]
     },
     "execution_count": 24,
     "metadata": {},
     "output_type": "execute_result"
    }
   ],
   "source": [
    "tfidf_train[0]\n",
    "#tfidf tf(w) = doc.count(w)/total words in doc *\n",
    "#idf(w) = log(total number of documents/number of documents containing word w)\n"
   ]
  },
  {
   "cell_type": "code",
   "execution_count": 25,
   "metadata": {},
   "outputs": [
    {
     "data": {
      "text/plain": [
       "31353"
      ]
     },
     "execution_count": 25,
     "metadata": {},
     "output_type": "execute_result"
    }
   ],
   "source": [
    "vocab = tfidf.get_feature_names()\n",
    "len(vocab)"
   ]
  },
  {
   "cell_type": "markdown",
   "metadata": {},
   "source": [
    "## Models"
   ]
  },
  {
   "cell_type": "code",
   "execution_count": 52,
   "metadata": {},
   "outputs": [],
   "source": [
    "from sklearn.linear_model import LogisticRegression\n",
    "from sklearn.metrics import classification_report, accuracy_score, confusion_matrix"
   ]
  },
  {
   "cell_type": "code",
   "execution_count": 55,
   "metadata": {},
   "outputs": [
    {
     "name": "stderr",
     "output_type": "stream",
     "text": [
      "/Users/req94983/anaconda3/lib/python3.7/site-packages/sklearn/linear_model/logistic.py:433: FutureWarning: Default solver will be changed to 'lbfgs' in 0.22. Specify a solver to silence this warning.\n",
      "  FutureWarning)\n"
     ]
    }
   ],
   "source": [
    "model = LogisticRegression()\n",
    "model.fit(tfidf_train, y_train)\n",
    "Predictions_LR = model.predict(tfidf_test)"
   ]
  },
  {
   "cell_type": "code",
   "execution_count": 56,
   "metadata": {
    "scrolled": true
   },
   "outputs": [
    {
     "name": "stdout",
     "output_type": "stream",
     "text": [
      "[[7 4]\n",
      " [3 3]]\n",
      "              precision    recall  f1-score   support\n",
      "\n",
      "         DSS       0.70      0.64      0.67        11\n",
      "          SI       0.43      0.50      0.46         6\n",
      "\n",
      "   micro avg       0.59      0.59      0.59        17\n",
      "   macro avg       0.56      0.57      0.56        17\n",
      "weighted avg       0.60      0.59      0.59        17\n",
      "\n",
      "0.5882352941176471\n"
     ]
    }
   ],
   "source": [
    "print(confusion_matrix(y_test,Predictions_LR))\n",
    "print(classification_report(y_test,Predictions_LR))\n",
    "print(accuracy_score(y_test,Predictions_LR))"
   ]
  },
  {
   "cell_type": "markdown",
   "metadata": {},
   "source": [
    "Visualization"
   ]
  },
  {
   "cell_type": "code",
   "execution_count": 63,
   "metadata": {},
   "outputs": [],
   "source": [
    "coef_df = pd.DataFrame({'vocab': vocab, 'coef':model.coef_.reshape(-1)})\n",
    "SI_top10 = coef_df.sort_values('coef', ascending=False).reset_index(drop=True)[:10]\n",
    "DSS_top10 = coef_df.sort_values('coef').reset_index(drop=True)[:10]"
   ]
  },
  {
   "cell_type": "code",
   "execution_count": 64,
   "metadata": {},
   "outputs": [
    {
     "data": {
      "image/png": "[encoded data removed]",
      "text/plain": [
       "<Figure size 576x576 with 2 Axes>"
      ]
     },
     "metadata": {
      "needs_background": "light"
     },
     "output_type": "display_data"
    }
   ],
   "source": [
    "fig, axs = plt.subplots(1, 2, figsize=(8, 8))\n",
    "fig.subplots_adjust(wspace=0.8)\n",
    "SI_top10.sort_values('coef').plot.barh(legend=False, ax=axs[0])\n",
    "axs[0].set_yticklabels(pos_top10['vocab'].values.tolist()[::-1]) #counts backwards \n",
    "axs[0].set_title('SI');\n",
    "DSS_top10.sort_values('coef', ascending=False).plot.barh(legend=False, ax=axs[1])\n",
    "axs[1].set_yticklabels(neg_top10['vocab'].values.tolist()[::-1])\n",
    "axs[1].set_title('DSS');\n",
    "#Copied this shell of a graph\n",
    "#keep this for further notice"
   ]
  },
  {
   "cell_type": "code",
   "execution_count": null,
   "metadata": {},
   "outputs": [],
   "source": []
  },
  {
   "cell_type": "markdown",
   "metadata": {},
   "source": [
    "# What I could have done better"
   ]
  },
  {
   "cell_type": "markdown",
   "metadata": {},
   "source": [
    "1) More EDA, disocover meaningful graphs to gain better insights\n",
    "3) Added validation set to test more model types\n",
    "4) stemming or lemmetization\n"
   ]
  },
  {
   "cell_type": "code",
   "execution_count": null,
   "metadata": {},
   "outputs": [],
   "source": []
  }
 ],
 "metadata": {
  "kernelspec": {
   "display_name": "Python 3",
   "language": "python",
   "name": "python3"
  },
  "language_info": {
   "codemirror_mode": {
    "name": "ipython",
    "version": 3
   },
   "file_extension": ".py",
   "mimetype": "text/x-python",
   "name": "python",
   "nbconvert_exporter": "python",
   "pygments_lexer": "ipython3",
   "version": "3.6.8"
  }
 },
 "nbformat": 4,
 "nbformat_minor": 2
}
